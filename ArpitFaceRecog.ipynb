{
  "nbformat": 4,
  "nbformat_minor": 0,
  "metadata": {
    "colab": {
      "name": "ArpitFaceRecog.ipynb",
      "provenance": []
    },
    "kernelspec": {
      "name": "python3",
      "display_name": "Python 3"
    },
    "accelerator": "GPU"
  },
  "cells": [
    {
      "cell_type": "markdown",
      "metadata": {
        "id": "FVYCqTO8Wx5K",
        "colab_type": "text"
      },
      "source": [
        "# **Importing All necessary Modules**"
      ]
    },
    {
      "cell_type": "code",
      "metadata": {
        "id": "D-s9H6SO779J",
        "colab_type": "code",
        "colab": {
          "base_uri": "https://localhost:8080/",
          "height": 34
        },
        "outputId": "aece351b-d7d5-412c-cde0-e4e5afa5c526"
      },
      "source": [
        "from keras.applications.vgg16 import VGG16\n",
        "from keras.applications.vgg16 import preprocess_input\n",
        "from keras.preprocessing.image import ImageDataGenerator\n",
        "from keras.models import Model, Sequential\n",
        "from keras.layers import Dense, Dropout, Activation, Flatten, GlobalAveragePooling2D\n",
        "from keras.layers import Conv2D, MaxPooling2D, ZeroPadding2D\n",
        "from keras.layers.normalization import BatchNormalization\n",
        "from keras.callbacks import ModelCheckpoint, EarlyStopping\n",
        "from keras.optimizers import RMSprop\n",
        "from keras import backend as K\n",
        "from keras.models import load_model\n",
        "import pandas as pd\n",
        "import numpy as np"
      ],
      "execution_count": 1,
      "outputs": [
        {
          "output_type": "stream",
          "text": [
            "Using TensorFlow backend.\n"
          ],
          "name": "stderr"
        }
      ]
    },
    {
      "cell_type": "code",
      "metadata": {
        "id": "SwoiZeLFuFFy",
        "colab_type": "code",
        "colab": {
          "base_uri": "https://localhost:8080/",
          "height": 122
        },
        "outputId": "62c7454a-4faf-4c61-e6b7-c59892be4a9a"
      },
      "source": [
        "from google.colab import drive\n",
        "drive.mount(\"/content/drive\")"
      ],
      "execution_count": 2,
      "outputs": [
        {
          "output_type": "stream",
          "text": [
            "Go to this URL in a browser: https://accounts.google.com/o/oauth2/auth?client_id=947318989803-6bn6qk8qdgf4n4g3pfee6491hc0brc4i.apps.googleusercontent.com&redirect_uri=urn%3aietf%3awg%3aoauth%3a2.0%3aoob&response_type=code&scope=email%20https%3a%2f%2fwww.googleapis.com%2fauth%2fdocs.test%20https%3a%2f%2fwww.googleapis.com%2fauth%2fdrive%20https%3a%2f%2fwww.googleapis.com%2fauth%2fdrive.photos.readonly%20https%3a%2f%2fwww.googleapis.com%2fauth%2fpeopleapi.readonly\n",
            "\n",
            "Enter your authorization code:\n",
            "··········\n",
            "Mounted at /content/drive\n"
          ],
          "name": "stdout"
        }
      ]
    },
    {
      "cell_type": "markdown",
      "metadata": {
        "id": "OocVBg76XAwN",
        "colab_type": "text"
      },
      "source": [
        "# **Reload the model and freeze the layers**"
      ]
    },
    {
      "cell_type": "code",
      "metadata": {
        "id": "RISx1KfQCNeL",
        "colab_type": "code",
        "colab": {
          "base_uri": "https://localhost:8080/",
          "height": 51
        },
        "outputId": "86378b59-8430-4786-85aa-b20bc3c1a695"
      },
      "source": [
        "# VGG was designed to work on 224 x 224 pixel input images sizes\n",
        "img_rows, img_cols = 224, 224 \n",
        "\n",
        "# Re-loads the VGG model without the FC layers\n",
        "VGG_16 = VGG16(weights = 'imagenet', \n",
        "                 include_top = False, \n",
        "                 input_shape = (img_rows, img_cols, 3))\n",
        "\n",
        "# Here we freeze the last 4 layers \n",
        "# Layers are set to trainable as True by default\n",
        "for layer in VGG_16.layers:\n",
        "    layer.trainable = False"
      ],
      "execution_count": 3,
      "outputs": [
        {
          "output_type": "stream",
          "text": [
            "Downloading data from https://github.com/fchollet/deep-learning-models/releases/download/v0.1/vgg16_weights_tf_dim_ordering_tf_kernels_notop.h5\n",
            "58892288/58889256 [==============================] - 6s 0us/step\n"
          ],
          "name": "stdout"
        }
      ]
    },
    {
      "cell_type": "markdown",
      "metadata": {
        "id": "kjvz6tEjXPmr",
        "colab_type": "text"
      },
      "source": [
        "# **Defining a function for additional layers adding at the top of pre-trained model**"
      ]
    },
    {
      "cell_type": "code",
      "metadata": {
        "id": "Eh0niCG7FyxY",
        "colab_type": "code",
        "colab": {}
      },
      "source": [
        "def TopModelVGG_16(bottom_model, num_classes):\n",
        "    \"\"\"creates the top or head of the model that will be \n",
        "    placed ontop of the bottom layers\"\"\"\n",
        "\n",
        "    top_model = bottom_model.output\n",
        "    top_model = GlobalAveragePooling2D()(top_model)\n",
        "    top_model = Dense(1024,activation='relu')(top_model)\n",
        "    top_model = Dense(1024,activation='relu')(top_model)\n",
        "    top_model = Dense(512,activation='relu')(top_model)\n",
        "    top_model = Dense(512,activation='relu')(top_model)\n",
        "    top_model = Dense(num_classes,activation='softmax')(top_model)\n",
        "    return top_model"
      ],
      "execution_count": 0,
      "outputs": []
    },
    {
      "cell_type": "markdown",
      "metadata": {
        "id": "jqEdJp0LXj1H",
        "colab_type": "text"
      },
      "source": [
        "# **Adding the model and printing the summary**"
      ]
    },
    {
      "cell_type": "code",
      "metadata": {
        "id": "SX0-VjaSGXLH",
        "colab_type": "code",
        "colab": {
          "base_uri": "https://localhost:8080/",
          "height": 1000
        },
        "outputId": "f43c89ce-3407-4d89-ded7-af6b305456dd"
      },
      "source": [
        "num_classes = 2\n",
        "\n",
        "FC_Head = TopModelVGG_16(VGG_16, num_classes)\n",
        "\n",
        "model = Model(inputs = VGG_16.input, outputs = FC_Head)\n",
        "\n",
        "print(model.summary())"
      ],
      "execution_count": 5,
      "outputs": [
        {
          "output_type": "stream",
          "text": [
            "Model: \"model_1\"\n",
            "_________________________________________________________________\n",
            "Layer (type)                 Output Shape              Param #   \n",
            "=================================================================\n",
            "input_1 (InputLayer)         (None, 224, 224, 3)       0         \n",
            "_________________________________________________________________\n",
            "block1_conv1 (Conv2D)        (None, 224, 224, 64)      1792      \n",
            "_________________________________________________________________\n",
            "block1_conv2 (Conv2D)        (None, 224, 224, 64)      36928     \n",
            "_________________________________________________________________\n",
            "block1_pool (MaxPooling2D)   (None, 112, 112, 64)      0         \n",
            "_________________________________________________________________\n",
            "block2_conv1 (Conv2D)        (None, 112, 112, 128)     73856     \n",
            "_________________________________________________________________\n",
            "block2_conv2 (Conv2D)        (None, 112, 112, 128)     147584    \n",
            "_________________________________________________________________\n",
            "block2_pool (MaxPooling2D)   (None, 56, 56, 128)       0         \n",
            "_________________________________________________________________\n",
            "block3_conv1 (Conv2D)        (None, 56, 56, 256)       295168    \n",
            "_________________________________________________________________\n",
            "block3_conv2 (Conv2D)        (None, 56, 56, 256)       590080    \n",
            "_________________________________________________________________\n",
            "block3_conv3 (Conv2D)        (None, 56, 56, 256)       590080    \n",
            "_________________________________________________________________\n",
            "block3_pool (MaxPooling2D)   (None, 28, 28, 256)       0         \n",
            "_________________________________________________________________\n",
            "block4_conv1 (Conv2D)        (None, 28, 28, 512)       1180160   \n",
            "_________________________________________________________________\n",
            "block4_conv2 (Conv2D)        (None, 28, 28, 512)       2359808   \n",
            "_________________________________________________________________\n",
            "block4_conv3 (Conv2D)        (None, 28, 28, 512)       2359808   \n",
            "_________________________________________________________________\n",
            "block4_pool (MaxPooling2D)   (None, 14, 14, 512)       0         \n",
            "_________________________________________________________________\n",
            "block5_conv1 (Conv2D)        (None, 14, 14, 512)       2359808   \n",
            "_________________________________________________________________\n",
            "block5_conv2 (Conv2D)        (None, 14, 14, 512)       2359808   \n",
            "_________________________________________________________________\n",
            "block5_conv3 (Conv2D)        (None, 14, 14, 512)       2359808   \n",
            "_________________________________________________________________\n",
            "block5_pool (MaxPooling2D)   (None, 7, 7, 512)         0         \n",
            "_________________________________________________________________\n",
            "global_average_pooling2d_1 ( (None, 512)               0         \n",
            "_________________________________________________________________\n",
            "dense_1 (Dense)              (None, 1024)              525312    \n",
            "_________________________________________________________________\n",
            "dense_2 (Dense)              (None, 1024)              1049600   \n",
            "_________________________________________________________________\n",
            "dense_3 (Dense)              (None, 512)               524800    \n",
            "_________________________________________________________________\n",
            "dense_4 (Dense)              (None, 512)               262656    \n",
            "_________________________________________________________________\n",
            "dense_5 (Dense)              (None, 2)                 1026      \n",
            "=================================================================\n",
            "Total params: 17,078,082\n",
            "Trainable params: 2,363,394\n",
            "Non-trainable params: 14,714,688\n",
            "_________________________________________________________________\n",
            "None\n"
          ],
          "name": "stdout"
        }
      ]
    },
    {
      "cell_type": "markdown",
      "metadata": {
        "id": "TyhDiegqXwMM",
        "colab_type": "text"
      },
      "source": [
        "# **Importing dataset and using Image generator for Augmentation**"
      ]
    },
    {
      "cell_type": "code",
      "metadata": {
        "id": "UDO_Ia5xG9iD",
        "colab_type": "code",
        "colab": {
          "base_uri": "https://localhost:8080/",
          "height": 51
        },
        "outputId": "d10459aa-4994-48db-9626-51f686907414"
      },
      "source": [
        "train_data_dir = '/content/drive/My Drive/FaceRecognition/FaceData/train_data'\n",
        "validation_data_dir = '/content/drive/My Drive/FaceRecognition/FaceData/val_data'\n",
        "\n",
        "# Let's use some data augmentation \n",
        "train_datagen = ImageDataGenerator(\n",
        "      rescale=1./255,\n",
        "      rotation_range=10,\n",
        "      width_shift_range=0.1,\n",
        "      height_shift_range=0.1,\n",
        "      horizontal_flip=True,\n",
        "      fill_mode='nearest')\n",
        " \n",
        "validation_datagen = ImageDataGenerator(rescale=1./255)\n",
        " \n",
        "# set our batch size\n",
        "batch_size = 32\n",
        " \n",
        "train_generator = train_datagen.flow_from_directory(\n",
        "        train_data_dir,\n",
        "        target_size=(img_rows, img_cols),\n",
        "        batch_size=batch_size,\n",
        "        class_mode='categorical')\n",
        " \n",
        "validation_generator = validation_datagen.flow_from_directory(\n",
        "        validation_data_dir,\n",
        "        target_size=(img_rows, img_cols),\n",
        "        batch_size=batch_size,\n",
        "        class_mode='categorical')"
      ],
      "execution_count": 6,
      "outputs": [
        {
          "output_type": "stream",
          "text": [
            "Found 379 images belonging to 2 classes.\n",
            "Found 48 images belonging to 2 classes.\n"
          ],
          "name": "stdout"
        }
      ]
    },
    {
      "cell_type": "markdown",
      "metadata": {
        "id": "XfdBSJXEX7hZ",
        "colab_type": "text"
      },
      "source": [
        "# **Training the Model**"
      ]
    },
    {
      "cell_type": "code",
      "metadata": {
        "id": "UdHimAJQIMPq",
        "colab_type": "code",
        "colab": {
          "base_uri": "https://localhost:8080/",
          "height": 530
        },
        "outputId": "5e94aaf3-8082-4db6-bc0f-b15760407530"
      },
      "source": [
        "checkpoint = ModelCheckpoint(\"/content/drive/My Drive/FaceRecognition/FC_vgg_16.h5\",\n",
        "                             monitor=\"val_loss\",\n",
        "                             mode=\"min\",\n",
        "                             save_best_only = True,\n",
        "                             verbose=1)\n",
        "\n",
        "earlystop = EarlyStopping(monitor = 'val_loss', \n",
        "                          min_delta = 0, \n",
        "                          patience = 3,\n",
        "                          verbose = 1,\n",
        "                          restore_best_weights = True)\n",
        "\n",
        "# we put our call backs into a callback list\n",
        "callbacks = [earlystop, checkpoint]\n",
        "\n",
        "# We use a very small learning rate \n",
        "model.compile(loss = 'categorical_crossentropy',\n",
        "              optimizer = RMSprop(lr = 0.001),\n",
        "              metrics = ['accuracy'])\n",
        "\n",
        "# Enter the number of training and validation samples here\n",
        "nb_train_samples = 379\n",
        "nb_validation_samples = 48\n",
        "\n",
        "# We only train 15 EPOCHS \n",
        "epochs = 15\n",
        "batch_size = 16\n",
        "\n",
        "history = model.fit_generator(\n",
        "    train_generator,\n",
        "    steps_per_epoch = nb_train_samples // batch_size,\n",
        "    epochs = epochs,\n",
        "    callbacks = callbacks,\n",
        "    validation_data = validation_generator,\n",
        "    validation_steps = nb_validation_samples // batch_size)"
      ],
      "execution_count": 7,
      "outputs": [
        {
          "output_type": "stream",
          "text": [
            "Epoch 1/15\n",
            "23/23 [==============================] - 241s 10s/step - loss: 0.3784 - accuracy: 0.8691 - val_loss: 0.7234 - val_accuracy: 0.7375\n",
            "\n",
            "Epoch 00001: val_loss improved from inf to 0.72340, saving model to /content/drive/My Drive/FaceRecognition/FC_vgg_16.h5\n",
            "Epoch 2/15\n",
            "23/23 [==============================] - 15s 650ms/step - loss: 0.1883 - accuracy: 0.9353 - val_loss: 0.0462 - val_accuracy: 0.9688\n",
            "\n",
            "Epoch 00002: val_loss improved from 0.72340 to 0.04619, saving model to /content/drive/My Drive/FaceRecognition/FC_vgg_16.h5\n",
            "Epoch 3/15\n",
            "23/23 [==============================] - 15s 659ms/step - loss: 0.0904 - accuracy: 0.9738 - val_loss: 0.0711 - val_accuracy: 0.9750\n",
            "\n",
            "Epoch 00003: val_loss did not improve from 0.04619\n",
            "Epoch 4/15\n",
            "23/23 [==============================] - 15s 666ms/step - loss: 0.0361 - accuracy: 0.9890 - val_loss: 2.0280e-04 - val_accuracy: 0.9062\n",
            "\n",
            "Epoch 00004: val_loss improved from 0.04619 to 0.00020, saving model to /content/drive/My Drive/FaceRecognition/FC_vgg_16.h5\n",
            "Epoch 5/15\n",
            "23/23 [==============================] - 15s 659ms/step - loss: 0.8708 - accuracy: 0.9477 - val_loss: 0.0872 - val_accuracy: 0.9750\n",
            "\n",
            "Epoch 00005: val_loss did not improve from 0.00020\n",
            "Epoch 6/15\n",
            "23/23 [==============================] - 15s 658ms/step - loss: 0.0119 - accuracy: 0.9945 - val_loss: 0.2084 - val_accuracy: 0.9844\n",
            "\n",
            "Epoch 00006: val_loss did not improve from 0.00020\n",
            "Epoch 7/15\n",
            "23/23 [==============================] - 15s 666ms/step - loss: 0.0319 - accuracy: 0.9876 - val_loss: 0.0030 - val_accuracy: 0.9875\n",
            "Restoring model weights from the end of the best epoch\n",
            "\n",
            "Epoch 00007: val_loss did not improve from 0.00020\n",
            "Epoch 00007: early stopping\n"
          ],
          "name": "stdout"
        }
      ]
    },
    {
      "cell_type": "markdown",
      "metadata": {
        "id": "p6AEuy3JYBzR",
        "colab_type": "text"
      },
      "source": [
        "# **Load saved Model**"
      ]
    },
    {
      "cell_type": "code",
      "metadata": {
        "id": "btYQ6EcVJI9t",
        "colab_type": "code",
        "colab": {}
      },
      "source": [
        "classifier = load_model('/content/drive/My Drive/FaceRecognition/FC_vgg_16.h5')"
      ],
      "execution_count": 0,
      "outputs": []
    },
    {
      "cell_type": "markdown",
      "metadata": {
        "id": "A5XEnYR4YF2T",
        "colab_type": "text"
      },
      "source": [
        "# **Lets do a quick prediction over an image**"
      ]
    },
    {
      "cell_type": "code",
      "metadata": {
        "id": "DuZ3V4mDLj1X",
        "colab_type": "code",
        "colab": {
          "base_uri": "https://localhost:8080/",
          "height": 209
        },
        "outputId": "b1e52e42-01db-4347-f734-ebfeb0970103"
      },
      "source": [
        "import cv2\n",
        "import numpy as np\n",
        "from google.colab.patches import cv2_imshow\n",
        "\n",
        "images_dict = {\"[0]\": \"AmitabhJi\", \n",
        "                      \"[1]\": \"Arpit\" }\n",
        "\n",
        "images_dict_n = { \"AmitabhJi\": \"AmitabhJi\" ,\n",
        "                  \"Arpit\": \"Arpit\"  }\n",
        "\n",
        "img = cv2.imread(\"/content/ArpitPathak.png\")\n",
        "input_original = img.copy()\n",
        "input_original = cv2.resize(input_original,None,\n",
        "                            fx=0.5,fy=0.5,\n",
        "                            interpolation=cv2.INTER_LINEAR)\n",
        "\n",
        "img = img / 255\n",
        "img.resize((224,224,3))\n",
        "img = img.reshape(1,224,224,3)\n",
        "res = np.argmax(classifier.predict(img,verbose=0),\n",
        "                axis = 1)\n",
        "\n",
        "face = images_dict[str(res)]\n",
        "BLACK = [0,0,0]\n",
        "expanded_image = cv2.copyMakeBorder(input_original,\n",
        "                                    80,0,0,100,\n",
        "                                    cv2.BORDER_CONSTANT,value=BLACK)\n",
        "cv2.putText(expanded_image,face,\n",
        "            (20,60),cv2.FONT_HERSHEY_DUPLEX,\n",
        "            1,(0,0,255),2)\n",
        "cv2_imshow(expanded_image)"
      ],
      "execution_count": 14,
      "outputs": [
        {
          "output_type": "display_data",
          "data": {
            "image/png": "[encoded data removed]",
            "text/plain": [
              "<PIL.Image.Image image mode=RGB size=194x192 at 0x7F63CE0539E8>"
            ]
          },
          "metadata": {
            "tags": []
          }
        }
      ]
    },
    {
      "cell_type": "code",
      "metadata": {
        "id": "PW149zLtOhpJ",
        "colab_type": "code",
        "colab": {}
      },
      "source": [
        ""
      ],
      "execution_count": 0,
      "outputs": []
    }
  ]
}